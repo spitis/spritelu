{
 "cells": [
  {
   "cell_type": "code",
   "execution_count": 1,
   "metadata": {},
   "outputs": [],
   "source": [
    "from spriteworld import environment, renderers, sprite, tasks, action_spaces\n",
    "import matplotlib.pyplot as plt, copy, numpy as np\n",
    "%matplotlib inline"
   ]
  },
  {
   "cell_type": "code",
   "execution_count": 2,
   "metadata": {},
   "outputs": [],
   "source": [
    "s1 = sprite.Sprite(0.25, 0.25, 'triangle', c0=140,c1=220, c2=80, goal_x=0.1, goal_y=0.1)\n",
    "s2 = sprite.Sprite(0.75, 0.25, 'square', c0=200,c2=255, goal_x=0.9, goal_y=0.1)\n",
    "s3 = sprite.Sprite(0.25, 0.75, 'circle', c2=255, c1=210, goal_x=0.1, goal_y=0.9)\n",
    "s4 = sprite.Sprite(0.50, 0.75, 'star_5', c0=255, c1=80)\n",
    "\n",
    "s4_goal = sprite.Sprite(0.20, 0.20, 'pentagon', c2=250, c1=180)\n",
    "\n",
    "init_sprites = lambda: copy.deepcopy((s1, s2, s3, s4))"
   ]
  },
  {
   "cell_type": "code",
   "execution_count": 3,
   "metadata": {},
   "outputs": [],
   "source": [
    "GOAL_ENV_IMAGE_RENDERERS = {\n",
    "  'observation': renderers.PILRenderer((64,64)),\n",
    "  'achieved_goal': renderers.AchievedGoalRenderer(),\n",
    "  'desired_goal': renderers.PILGoalRenderer((64, 64))\n",
    "}\n",
    "\n",
    "GOAL_ENV_VECTOR_RENDERERS = {\n",
    "  'observation': renderers.VectorizedPositions(),\n",
    "  'achieved_goal': renderers.AchievedGoalRenderer(),\n",
    "  'desired_goal': renderers.VectorizedGoalPositions()\n",
    "}"
   ]
  },
  {
   "cell_type": "code",
   "execution_count": 4,
   "metadata": {},
   "outputs": [],
   "source": [
    "env = environment.Environment(tasks.NoReward(), \n",
    "                              action_spaces.Navigate(), \n",
    "                              GOAL_ENV_VECTOR_RENDERERS,\n",
    "                              init_sprites)"
   ]
  },
  {
   "cell_type": "code",
   "execution_count": 8,
   "metadata": {},
   "outputs": [
    {
     "data": {
      "text/plain": [
       "{'observation': array([0.25, 0.25, 0.75, 0.25, 0.25, 0.75, 0.5 , 0.75]),\n",
       " 'achieved_goal': array([0.25, 0.25, 0.75, 0.25, 0.25, 0.75, 0.5 , 0.75]),\n",
       " 'desired_goal': array([0.1, 0.1, 0.9, 0.1, 0.1, 0.9, 0.5, 0.5])}"
      ]
     },
     "execution_count": 8,
     "metadata": {},
     "output_type": "execute_result"
    }
   ],
   "source": [
    "t = env.reset()\n",
    "t.observation"
   ]
  },
  {
   "cell_type": "code",
   "execution_count": 6,
   "metadata": {},
   "outputs": [],
   "source": [
    "env = environment.Environment(tasks.NoReward(), \n",
    "                              action_spaces.Navigate(), \n",
    "                              GOAL_ENV_IMAGE_RENDERERS,\n",
    "                              init_sprites)"
   ]
  },
  {
   "cell_type": "code",
   "execution_count": 7,
   "metadata": {},
   "outputs": [
    {
     "data": {
      "text/plain": [
       "['observation', 'achieved_goal', 'desired_goal']"
      ]
     },
     "execution_count": 7,
     "metadata": {},
     "output_type": "execute_result"
    }
   ],
   "source": [
    "t = env.reset()\n",
    "list(t.observation.keys())"
   ]
  },
  {
   "cell_type": "code",
   "execution_count": 8,
   "metadata": {},
   "outputs": [
    {
     "data": {
      "text/plain": [
       "<matplotlib.image.AxesImage at 0x7faaadefbe48>"
      ]
     },
     "execution_count": 8,
     "metadata": {},
     "output_type": "execute_result"
    },
    {
     "data": {
      "image/png": "[encoded data removed]",
      "text/plain": [
       "<Figure size 432x288 with 1 Axes>"
      ]
     },
     "metadata": {
      "needs_background": "light"
     },
     "output_type": "display_data"
    }
   ],
   "source": [
    "plt.imshow(t.observation['observation'])"
   ]
  },
  {
   "cell_type": "code",
   "execution_count": 9,
   "metadata": {},
   "outputs": [
    {
     "data": {
      "text/plain": [
       "<matplotlib.image.AxesImage at 0x7faaade13470>"
      ]
     },
     "execution_count": 9,
     "metadata": {},
     "output_type": "execute_result"
    },
    {
     "data": {
      "image/png": "[encoded data removed]",
      "text/plain": [
       "<Figure size 432x288 with 1 Axes>"
      ]
     },
     "metadata": {
      "needs_background": "light"
     },
     "output_type": "display_data"
    }
   ],
   "source": [
    "plt.imshow(t.observation['achieved_goal'])"
   ]
  },
  {
   "cell_type": "code",
   "execution_count": 10,
   "metadata": {},
   "outputs": [
    {
     "data": {
      "text/plain": [
       "<matplotlib.image.AxesImage at 0x7faaaddfa780>"
      ]
     },
     "execution_count": 10,
     "metadata": {},
     "output_type": "execute_result"
    },
    {
     "data": {
      "image/png": "[encoded data removed]",
      "text/plain": [
       "<Figure size 432x288 with 1 Axes>"
      ]
     },
     "metadata": {
      "needs_background": "light"
     },
     "output_type": "display_data"
    }
   ],
   "source": [
    "plt.imshow(t.observation['desired_goal'])"
   ]
  },
  {
   "cell_type": "code",
   "execution_count": 12,
   "metadata": {
    "scrolled": true
   },
   "outputs": [
    {
     "data": {
      "text/plain": [
       "<matplotlib.image.AxesImage at 0x7faaadd5c518>"
      ]
     },
     "execution_count": 12,
     "metadata": {},
     "output_type": "execute_result"
    },
    {
     "data": {
      "image/png": "[encoded data removed]",
      "text/plain": [
       "<Figure size 432x288 with 1 Axes>"
      ]
     },
     "metadata": {
      "needs_background": "light"
     },
     "output_type": "display_data"
    }
   ],
   "source": [
    "for i in range(1000):\n",
    "  t = env.step(env.action_space.sample())\n",
    "plt.imshow(t.observation['observation'])"
   ]
  },
  {
   "cell_type": "code",
   "execution_count": null,
   "metadata": {},
   "outputs": [],
   "source": []
  },
  {
   "cell_type": "code",
   "execution_count": null,
   "metadata": {},
   "outputs": [],
   "source": []
  }
 ],
 "metadata": {
  "kernelspec": {
   "display_name": "Python 3",
   "language": "python",
   "name": "python3"
  },
  "language_info": {
   "codemirror_mode": {
    "name": "ipython",
    "version": 3
   },
   "file_extension": ".py",
   "mimetype": "text/x-python",
   "name": "python",
   "nbconvert_exporter": "python",
   "pygments_lexer": "ipython3",
   "version": "3.6.5"
  }
 },
 "nbformat": 4,
 "nbformat_minor": 2
}

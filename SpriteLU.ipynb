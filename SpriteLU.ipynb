{
 "cells": [
  {
   "cell_type": "code",
   "execution_count": 1,
   "metadata": {},
   "outputs": [],
   "source": [
    "from spriteworld import environment, renderers, sprite, tasks, action_spaces\n",
    "import matplotlib.pyplot as plt, copy, numpy as np\n",
    "%matplotlib inline\n",
    "\n",
    "def viz(obs):\n",
    "  plt.imshow(255 - obs)"
   ]
  },
  {
   "cell_type": "code",
   "execution_count": 2,
   "metadata": {},
   "outputs": [],
   "source": [
    "s1 = sprite.Sprite(0.25, 0.25, 'triangle', c0=140,c1=220, c2=80, goal_x=0.1, goal_y=0.1)\n",
    "s2 = sprite.Sprite(1., 0., 'square', c0=200,c2=255, goal_x=0.9, goal_y=0.1)\n",
    "s3 = sprite.Sprite(0.25, 0.75, 'circle', c2=255, c1=210, goal_x=0.1, goal_y=0.9)\n",
    "s4 = sprite.Sprite(0.50, 0.75, 'star_5', c0=255, c1=80)\n",
    "\n",
    "b1 = sprite.Sprite(0.4, 0.4, is_barrier=True)\n",
    "b2 = sprite.Sprite(0.3, 0.4, is_barrier=True)\n",
    "b3 = sprite.Sprite(0.2, 0.4, is_barrier=True)\n",
    "\n",
    "init_sprites = lambda: copy.deepcopy((b1, b2, b3, s1, s2, s3, s4))"
   ]
  },
  {
   "cell_type": "code",
   "execution_count": 8,
   "metadata": {},
   "outputs": [],
   "source": [
    "GOAL_ENV_IMAGE_RENDERERS = {\n",
    "  'observation': renderers.PILRenderer((100,100)),\n",
    "  'achieved_goal': renderers.AchievedPILGoalRenderer((100,100)),\n",
    "  'desired_goal': renderers.PILGoalRenderer((100, 100))\n",
    "}\n",
    "\n",
    "GOAL_ENV_VECTOR_RENDERERS = {\n",
    "  'observation': renderers.VectorizedPositions(),\n",
    "  'achieved_goal': renderers.AchievedVectorizedPositions(),\n",
    "  'desired_goal': renderers.VectorizedGoalPositions()\n",
    "}\n",
    "\n",
    "random_mtx = (np.random.rand(100, 100) - 0.5)*2.\n",
    "fn=lambda a: np.dot(random_mtx[:len(a),:len(a)], a)\n",
    "\n",
    "GOAL_ENV_VECTOR_RENDERERS_RANDOM = {\n",
    "  'observation': renderers.VectorizedPositions(),\n",
    "  'achieved_goal': renderers.AchievedFunctionOfVectorizedPositions(fn=fn),\n",
    "  'desired_goal': renderers.FunctionOfVectorizedGoalPositions(fn=fn)\n",
    "}"
   ]
  },
  {
   "cell_type": "code",
   "execution_count": 9,
   "metadata": {},
   "outputs": [],
   "source": [
    "env = environment.Environment(tasks.NoReward(), \n",
    "                              action_spaces.Navigate(), \n",
    "                              GOAL_ENV_VECTOR_RENDERERS,\n",
    "                              init_sprites)"
   ]
  },
  {
   "cell_type": "code",
   "execution_count": 10,
   "metadata": {},
   "outputs": [
    {
     "data": {
      "text/plain": [
       "{'observation': array([0.4 , 0.4 , 0.3 , 0.4 , 0.2 , 0.4 , 0.25, 0.25, 1.  , 0.  , 0.25,\n",
       "        0.75, 0.5 , 0.75]),\n",
       " 'achieved_goal': array([0.25, 0.25, 1.  , 0.  , 0.25, 0.75]),\n",
       " 'desired_goal': array([0.1, 0.1, 0.9, 0.1, 0.1, 0.9])}"
      ]
     },
     "execution_count": 10,
     "metadata": {},
     "output_type": "execute_result"
    }
   ],
   "source": [
    "t = env.reset()\n",
    "t.observation"
   ]
  },
  {
   "cell_type": "code",
   "execution_count": 11,
   "metadata": {},
   "outputs": [],
   "source": [
    "env = environment.Environment(tasks.NoReward(), \n",
    "                              action_spaces.Navigate(), \n",
    "                              GOAL_ENV_VECTOR_RENDERERS_RANDOM,\n",
    "                              init_sprites)"
   ]
  },
  {
   "cell_type": "code",
   "execution_count": 12,
   "metadata": {},
   "outputs": [
    {
     "data": {
      "text/plain": [
       "{'observation': array([0.4 , 0.4 , 0.3 , 0.4 , 0.2 , 0.4 , 0.25, 0.25, 1.  , 0.  , 0.25,\n",
       "        0.75, 0.5 , 0.75]),\n",
       " 'achieved_goal': array([ 1.29748637, -1.15683452,  0.82035116,  0.23324682, -1.31579084,\n",
       "        -1.95234628]),\n",
       " 'desired_goal': array([ 1.33888822, -1.28595189,  0.41412816,  0.04864457, -1.03588963,\n",
       "        -1.89645366])}"
      ]
     },
     "execution_count": 12,
     "metadata": {},
     "output_type": "execute_result"
    }
   ],
   "source": [
    "t = env.reset()\n",
    "t.observation"
   ]
  },
  {
   "cell_type": "code",
   "execution_count": 13,
   "metadata": {},
   "outputs": [],
   "source": [
    "env = environment.Environment(tasks.NoReward(), \n",
    "                              action_spaces.Navigate(), \n",
    "                              GOAL_ENV_IMAGE_RENDERERS,\n",
    "                              init_sprites)"
   ]
  },
  {
   "cell_type": "code",
   "execution_count": 14,
   "metadata": {},
   "outputs": [
    {
     "data": {
      "text/plain": [
       "['observation', 'achieved_goal', 'desired_goal']"
      ]
     },
     "execution_count": 14,
     "metadata": {},
     "output_type": "execute_result"
    }
   ],
   "source": [
    "t = env.reset()\n",
    "list(t.observation.keys())"
   ]
  },
  {
   "cell_type": "code",
   "execution_count": 15,
   "metadata": {},
   "outputs": [
    {
     "data": {
      "image/png": "[encoded data removed]",
      "text/plain": [
       "<Figure size 432x288 with 1 Axes>"
      ]
     },
     "metadata": {},
     "output_type": "display_data"
    }
   ],
   "source": [
    "viz(t.observation['observation'])"
   ]
  },
  {
   "cell_type": "code",
   "execution_count": 16,
   "metadata": {},
   "outputs": [
    {
     "data": {
      "image/png": "[encoded data removed]",
      "text/plain": [
       "<Figure size 432x288 with 1 Axes>"
      ]
     },
     "metadata": {},
     "output_type": "display_data"
    }
   ],
   "source": [
    "viz(t.observation['achieved_goal'])"
   ]
  },
  {
   "cell_type": "code",
   "execution_count": 17,
   "metadata": {},
   "outputs": [
    {
     "data": {
      "image/png": "[encoded data removed]",
      "text/plain": [
       "<Figure size 432x288 with 1 Axes>"
      ]
     },
     "metadata": {},
     "output_type": "display_data"
    }
   ],
   "source": [
    "viz(t.observation['desired_goal'])"
   ]
  },
  {
   "cell_type": "code",
   "execution_count": 18,
   "metadata": {
    "scrolled": true
   },
   "outputs": [
    {
     "data": {
      "image/png": "[encoded data removed]",
      "text/plain": [
       "<Figure size 432x288 with 1 Axes>"
      ]
     },
     "metadata": {},
     "output_type": "display_data"
    }
   ],
   "source": [
    "for i in range(5):\n",
    "  t = env.step(env.action_space.sample())\n",
    "viz(t.observation['observation'])"
   ]
  },
  {
   "cell_type": "code",
   "execution_count": 19,
   "metadata": {},
   "outputs": [
    {
     "data": {
      "text/plain": [
       "True"
      ]
     },
     "execution_count": 19,
     "metadata": {},
     "output_type": "execute_result"
    }
   ],
   "source": [
    "env._sprites[0].is_barrier"
   ]
  },
  {
   "cell_type": "code",
   "execution_count": null,
   "metadata": {},
   "outputs": [],
   "source": []
  },
  {
   "cell_type": "code",
   "execution_count": null,
   "metadata": {},
   "outputs": [],
   "source": []
  },
  {
   "cell_type": "code",
   "execution_count": null,
   "metadata": {},
   "outputs": [],
   "source": []
  }
 ],
 "metadata": {
  "kernelspec": {
   "display_name": "Python 3",
   "language": "python",
   "name": "python3"
  },
  "language_info": {
   "codemirror_mode": {
    "name": "ipython",
    "version": 3
   },
   "file_extension": ".py",
   "mimetype": "text/x-python",
   "name": "python",
   "nbconvert_exporter": "python",
   "pygments_lexer": "ipython3",
   "version": "3.6.5"
  }
 },
 "nbformat": 4,
 "nbformat_minor": 2
}
